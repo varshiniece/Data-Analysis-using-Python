{
 "cells": [
  {
   "cell_type": "code",
   "execution_count": 1,
   "id": "c937ff73",
   "metadata": {},
   "outputs": [
    {
     "name": "stdout",
     "output_type": "stream",
     "text": [
      "Good morning. How are you.?\n"
     ]
    }
   ],
   "source": [
    "##print a message\n",
    "msg = \"Good morning. How are you.?\"\n",
    "print(msg)\n"
   ]
  },
  {
   "cell_type": "code",
   "execution_count": 2,
   "id": "92c20788",
   "metadata": {},
   "outputs": [
    {
     "name": "stdout",
     "output_type": "stream",
     "text": [
      "Good morning. How are you.?\n",
      "Good night.\n"
     ]
    }
   ],
   "source": [
    "##Change the value of variable to new message and print new msg.\n",
    "print(msg)\n",
    "msg = \"Good night.\"\n",
    "print(msg)\n"
   ]
  },
  {
   "cell_type": "code",
   "execution_count": 8,
   "id": "c801fdb6",
   "metadata": {},
   "outputs": [
    {
     "name": "stdout",
     "output_type": "stream",
     "text": [
      "Hello Shiva ,Would you like to learn some python today?\n"
     ]
    }
   ],
   "source": [
    "name = \"Shiva\"\n",
    "print (\"Hello\", name, \",Would you like to learn some python today?\")\n"
   ]
  },
  {
   "cell_type": "code",
   "execution_count": 9,
   "id": "6c169c83",
   "metadata": {},
   "outputs": [
    {
     "name": "stdout",
     "output_type": "stream",
     "text": [
      "Albert Einstein once said, “A person who never made a mistake never tried anything new.”\n"
     ]
    }
   ],
   "source": [
    "print(\"Albert Einstein once said, “A person who never made a mistake never tried anything new.”\")\n"
   ]
  },
  {
   "cell_type": "code",
   "execution_count": 20,
   "id": "3f51a263",
   "metadata": {},
   "outputs": [
    {
     "name": "stdout",
     "output_type": "stream",
     "text": [
      "Albert Einstein once said, \"A person who never made a mistake never tried anything new.\"\n"
     ]
    }
   ],
   "source": [
    "famous_person = \"Albert Einstein\"\n",
    "message = \"\\\"A person who never made a mistake never tried anything new.\\\"\"\n",
    "print(famous_person, \"once said,\", message)\n"
   ]
  },
  {
   "cell_type": "code",
   "execution_count": 22,
   "id": "ffac01b4",
   "metadata": {},
   "outputs": [
    {
     "name": "stdout",
     "output_type": "stream",
     "text": [
      "8\n",
      "8\n",
      "8\n",
      "8\n"
     ]
    }
   ],
   "source": [
    "print(5+3)\n",
    "print(16-8)\n",
    "print(int(64/8)) \n",
    "print(2*4)\n"
   ]
  },
  {
   "cell_type": "code",
   "execution_count": 24,
   "id": "f7ccef4e",
   "metadata": {},
   "outputs": [
    {
     "name": "stdout",
     "output_type": "stream",
     "text": [
      "My favourite number is  4\n"
     ]
    }
   ],
   "source": [
    "#Displaying my favourite number.. Code by Varshini  25.10.2022. \n",
    "fav_num = 4\n",
    "print(\"My favourite number is \", fav_num)\n"
   ]
  },
  {
   "cell_type": "code",
   "execution_count": 26,
   "id": "6463633f",
   "metadata": {},
   "outputs": [
    {
     "name": "stdout",
     "output_type": "stream",
     "text": [
      "Enter your favourite number: 6\n",
      "My favourite number is  6\n"
     ]
    }
   ],
   "source": [
    "##Displaying favourite number that is taken as input from user. Code by Varshini . 25/10/2022 Python Pracrtice assignment. \n",
    "fav_num = input(\"Enter your favourite number: \")\n",
    "print(\"My favourite number is \", fav_num)\n"
   ]
  },
  {
   "cell_type": "code",
   "execution_count": 28,
   "id": "3e0577ce",
   "metadata": {},
   "outputs": [
    {
     "name": "stdout",
     "output_type": "stream",
     "text": [
      "Ramya\n",
      "Saranya\n",
      "Amrita\n",
      "Sharmila\n"
     ]
    }
   ],
   "source": [
    "##Use of list \n",
    "names = ['Ramya','Saranya','Amrita','Sharmila']\n",
    "print(names[0])\n",
    "print(names[1])\n",
    "print(names[2])\n",
    "print(names[3])\n"
   ]
  },
  {
   "cell_type": "code",
   "execution_count": 5,
   "id": "35c87437",
   "metadata": {
    "scrolled": true
   },
   "outputs": [
    {
     "name": "stdout",
     "output_type": "stream",
     "text": [
      "HII Ramya All the best\n",
      "HII Saranya All the best\n",
      "HII Amrita All the best\n",
      "HII Sharmila All the best\n"
     ]
    }
   ],
   "source": [
    "\n",
    "names = ['Ramya','Saranya','Amrita','Sharmila']\n",
    "for item in names:\n",
    "\n",
    "    \n",
    "    print(\"HII\", item,  \"All the best\")\n",
    "    \n",
    "    "
   ]
  },
  {
   "cell_type": "code",
   "execution_count": 31,
   "id": "89b7988d",
   "metadata": {},
   "outputs": [
    {
     "name": "stdout",
     "output_type": "stream",
     "text": [
      "I love my  cycle\n",
      "bike riding is my pleasure\n",
      "I prefer car for long journeys\n",
      "flight journeys are safer than train\n"
     ]
    }
   ],
   "source": [
    "fav_list = ['cycle', 'bike', 'car', 'flight' , 'train']\n",
    "print(\"I love my \",fav_list[0])\n",
    "print(fav_list[1],\"riding is my pleasure\")\n",
    "print(\"I prefer\",fav_list[2],\"for long journeys\")\n",
    "print(fav_list[3],\"journeys are safer than\",fav_list[4])\n",
    "    "
   ]
  },
  {
   "cell_type": "code",
   "execution_count": 1,
   "id": "4f829b6c",
   "metadata": {},
   "outputs": [
    {
     "data": {
      "text/plain": [
       "'C:\\\\Users\\\\shiva'"
      ]
     },
     "execution_count": 1,
     "metadata": {},
     "output_type": "execute_result"
    }
   ],
   "source": [
    "pwd"
   ]
  },
  {
   "cell_type": "code",
   "execution_count": null,
   "id": "a9d187af",
   "metadata": {},
   "outputs": [],
   "source": []
  }
 ],
 "metadata": {
  "kernelspec": {
   "display_name": "Python 3 (ipykernel)",
   "language": "python",
   "name": "python3"
  },
  "language_info": {
   "codemirror_mode": {
    "name": "ipython",
    "version": 3
   },
   "file_extension": ".py",
   "mimetype": "text/x-python",
   "name": "python",
   "nbconvert_exporter": "python",
   "pygments_lexer": "ipython3",
   "version": "3.9.12"
  }
 },
 "nbformat": 4,
 "nbformat_minor": 5
}
