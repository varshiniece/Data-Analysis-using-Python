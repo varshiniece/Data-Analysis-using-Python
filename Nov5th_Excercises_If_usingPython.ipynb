{
 "cells": [
  {
   "cell_type": "code",
   "execution_count": 10,
   "id": "70883432",
   "metadata": {},
   "outputs": [
    {
     "name": "stdout",
     "output_type": "stream",
     "text": [
      "Enter an integer5\n",
      "Integer is odd\n"
     ]
    }
   ],
   "source": [
    "##   1.... take integer input n program should display a message indicating whether the integer is even or odd\n",
    "msg = int(input(\"Enter an integer\"))\n",
    "if (msg%2 == 0):\n",
    "    print(\"Integer is Even\")\n",
    "else :\n",
    "    print(\"Integer is odd\")"
   ]
  },
  {
   "cell_type": "code",
   "execution_count": 11,
   "id": "0c80cb75",
   "metadata": {},
   "outputs": [
    {
     "data": {
      "text/plain": [
       "5"
      ]
     },
     "execution_count": 11,
     "metadata": {},
     "output_type": "execute_result"
    }
   ],
   "source": [
    "msg\n"
   ]
  },
  {
   "cell_type": "code",
   "execution_count": 13,
   "id": "ac301a3e",
   "metadata": {},
   "outputs": [
    {
     "name": "stdout",
     "output_type": "stream",
     "text": [
      "Input a dog's age in human years: -6\n",
      "Age must be positive number.\n",
      "The dog's age in dog's years is 29\n"
     ]
    }
   ],
   "source": [
    "### conv of human years to dog years. \n",
    "h_age = int(input(\"Input a dog's age in human years: \"))\n",
    "\n",
    "if h_age < 0:\n",
    "    print(\"Age must be positive number.\")\n",
    "    exit()\n",
    "elif h_age <= 2:\n",
    "    d_age = h_age * 10.5\n",
    "else:\n",
    "    d_age = 21 + (h_age - 2)*4\n",
    "\n",
    "print(\"The dog's age in dog's years is\", d_age)"
   ]
  },
  {
   "cell_type": "code",
   "execution_count": 5,
   "id": "cacee6b1",
   "metadata": {},
   "outputs": [
    {
     "name": "stdout",
     "output_type": "stream",
     "text": [
      "Enter an english alphabeta\n",
      "The alphabet is a vowel\n"
     ]
    }
   ],
   "source": [
    "###Create a program that reads a letter of the alphabet from the user. If the user enters a, e, i, o or u then your program should display a message indicating that the entered letter is a vowel. If the user enters y then your program should display a message indicating that sometimes y is a vowel, and sometimes y is a consonant. Otherwise your program should display a message indicating that the letter is a consonant.\n",
    "alp = input(\"Enter an english alphabet\")\n",
    "if (alp== \"a\" or alp == \"e\" or alp == \"i\" or alp == \"o\" or alp == \"u\"):\n",
    "    print(\"The alphabet is a vowel\")\n",
    "elif (alp == \"y\"):\n",
    "    print(\"y is sometimes a vowel and sometimes a consonant \")\n",
    "else: \n",
    "    print(\"It is a consonant\")\n",
    "        \n"
   ]
  },
  {
   "cell_type": "code",
   "execution_count": 9,
   "id": "628b2915",
   "metadata": {},
   "outputs": [
    {
     "name": "stdout",
     "output_type": "stream",
     "text": [
      "Enter the number of sides in your picture: 7\n",
      "The shape is septagon\n"
     ]
    }
   ],
   "source": [
    "##Write a program that determines the name of a shape from its number of sides. Read the number of sides from the user and then report the appropriate name as part of a meaningful message. Your program should support shapes with anywhere from 3 up to (and including) 10 sides. If a number of sides outside of this range is entered then your program should display an appropriate error message.\n",
    "\n",
    "num = int(input(\"Enter the number of sides in your picture: \"))\n",
    "if (num>=11):\n",
    "    print(\"ERROR.. ! Please enter an appropriate number between 3 to 10\")\n",
    "elif (num ==3):\n",
    "    print(\"The shape is a triangle\")\n",
    "elif (num==4):\n",
    "    print(\"The shape is a Square\")\n",
    "elif (num==5):\n",
    "    print(\"The shape is a pentagon\")\n",
    "elif (num==6):\n",
    "    print(\"The shape is a Hexagon\")\n",
    "elif(num==7):\n",
    "    print(\"The shape is septagon\")\n",
    "elif(num==8):\n",
    "    print(\"The shape is octogon\")\n",
    "elif (num==9):\n",
    "    print(\"The shape is nanogon\")\n",
    "elif (num==10):\n",
    "    print(\"The shape is decagon\")\n",
    "    \n",
    "        \n",
    "    "
   ]
  },
  {
   "cell_type": "code",
   "execution_count": 14,
   "id": "82a9d2e5",
   "metadata": {},
   "outputs": [
    {
     "name": "stdout",
     "output_type": "stream",
     "text": [
      "Enter the name of the monthJanuary\n",
      "days=31\n"
     ]
    }
   ],
   "source": [
    "###reate a program that reads the name of a month from the user as a string. Then your program should display the number of days in that month. Display “28 or 29 days” for February so that leap years are addressed.\n",
    "month = input(\"Enter the name of the month\")\n",
    "\n",
    "# Compute the number of days in the month\n",
    "if (month == \"April\" or month == \"June\" or month == \"September\" or month == \"November\"):\n",
    "    print(\"days = 30\")\n",
    "elif (month == \"February\"):\n",
    "    print(\"days = 28 or 29\")\n",
    "else:\n",
    "    print(\"days=31\")\n",
    "       \n"
   ]
  },
  {
   "cell_type": "code",
   "execution_count": 17,
   "id": "70a43d8f",
   "metadata": {},
   "outputs": [
    {
     "name": "stdout",
     "output_type": "stream",
     "text": [
      "Enter the number of decibels: 32\n",
      "quieter than a quiet room.\n"
     ]
    }
   ],
   "source": [
    "#The following table lists the sound level in decibels for several common noises.\n",
    "\n",
    "#Noise Decibel level (dB)\n",
    "#Jackhammer 130\n",
    "#Gas lawnmower 106\n",
    "#Alarm clock 70\n",
    "#Quiet room 40\n",
    "\n",
    "#Write a program that reads a sound level in decibels from the user. If the user\n",
    "#enters a decibel level that matches one of the noises in the table then your program\n",
    "#should display a message containing only that noise. If the user enters a number\n",
    "#of decibels between the noises listed then your program should display a message\n",
    "#indicating which noises the level is between. Ensure that your program also generates\n",
    "#reasonable output for a value smaller than the quietest noise in the table, and for a\n",
    "#value larger than the loudest noise in the table.\n",
    "\n",
    "\n",
    "\n",
    "decibels = float(input(\"Enter the number of decibels: \"))\n",
    "\n",
    "if decibels > 0 and decibels < 40:\n",
    "    print('quieter than a quiet room.')\n",
    "\n",
    "elif decibels == 40:\n",
    "    print('quiet room.')\n",
    "elif decibels > 40 and decibels < 70:\n",
    "    print('the noise levels are between Quiet room and alarm clock.')\n",
    "elif decibels == 70:\n",
    "    print('about the same as an alarm clock.')\n",
    "elif decibels > 70 and decibels < 106:\n",
    "    print('the noise levels are between Alarm clock and a lawn mower.')\n",
    "elif decibels == 106:\n",
    "    ('about the same as a lawn mower.')\n",
    "elif decibels > 106 and decibels < 130:\n",
    "    print(\" the noise levels are between lawn mover and jackhammer.\")\n",
    "elif decibels == 130:\n",
    "    print('about the same as a jackhammer.')\n",
    "elif decibels > 130:\n",
    "    print('way too loud.')\n",
    "\n",
    "else:\n",
    "    print('Please enter a correct data value.')\n"
   ]
  },
  {
   "cell_type": "code",
   "execution_count": 18,
   "id": "085d4ae4",
   "metadata": {},
   "outputs": [
    {
     "data": {
      "text/plain": [
       "'C:\\\\Users\\\\shiva'"
      ]
     },
     "execution_count": 18,
     "metadata": {},
     "output_type": "execute_result"
    }
   ],
   "source": [
    "pwd\n"
   ]
  },
  {
   "cell_type": "code",
   "execution_count": null,
   "id": "5e5fbfe7",
   "metadata": {},
   "outputs": [],
   "source": [
    "cd "
   ]
  }
 ],
 "metadata": {
  "kernelspec": {
   "display_name": "Python 3 (ipykernel)",
   "language": "python",
   "name": "python3"
  },
  "language_info": {
   "codemirror_mode": {
    "name": "ipython",
    "version": 3
   },
   "file_extension": ".py",
   "mimetype": "text/x-python",
   "name": "python",
   "nbconvert_exporter": "python",
   "pygments_lexer": "ipython3",
   "version": "3.9.12"
  }
 },
 "nbformat": 4,
 "nbformat_minor": 5
}
