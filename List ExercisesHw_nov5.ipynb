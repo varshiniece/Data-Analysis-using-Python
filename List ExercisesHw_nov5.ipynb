{
 "cells": [
  {
   "cell_type": "code",
   "execution_count": 40,
   "id": "0fc5212f",
   "metadata": {},
   "outputs": [
    {
     "name": "stdout",
     "output_type": "stream",
     "text": [
      "Enter elements of a list separated by space 09 65 34 23 87 12 34 75 93 74\n",
      "sorted data ['09', '12', '23', '34', '34', '65', '74', '75', '87', '93']\n",
      "list with outliers removed ['34', '34', '65', '74']\n"
     ]
    }
   ],
   "source": [
    "#When analysing data collected as part of a science experiment it may be desirable to remove the most extreme values before performing other calculations. Write a function that takes a list of values and an non-negative integer, n, as its parameters. The function should create a new copy of the list with the n largest elements and the n smallest elements removed. Then it should return the new copy of the list as the function’s only result. The order of the elements in the returned list does not have to match the order of the elements in the original list.\n",
    "#Write a main program that demonstrates your function. Your function should read a list of numbers from the user and remove the two largest Color Wavelength (nm) Violet 380 to less than 450 Blue 450 to less than 495 Green 495 to less than 570 Yellow 570 to less than 590 Orange 590 to less than 620 Red 620 to 750\n",
    "#and two smallest values from it. Display the list with the outliers removed, followed by the original list. Your program should generate an appropriate error message if the user enters less than 4 \n",
    "\n",
    "def remove_outliers(input_string,n):\n",
    "    input_string = input('Enter elements of a list separated by space ')\n",
    "\n",
    "    if (len(input_string))<4:\n",
    "        print(\"ERROR.. Please enter more than 4 values for the list\")\n",
    "    \n",
    "    user_list = input_string.split()\n",
    "# print list\n",
    "#print(' input data: ', user_list)\n",
    "   \n",
    "    user_list.sort()\n",
    "    print('sorted data', user_list)\n",
    "\n",
    "    del user_list[:n]\n",
    "#print(user_list)\n",
    "\n",
    "    del user_list[len(user_list) - n:]\n",
    "    print(\"list with outliers removed\",user_list)\n",
    "\n",
    "##n is the number of elements to be removed. \n",
    "remove_outliers(input_string,3) \n",
    "\n",
    "\n",
    "    "
   ]
  },
  {
   "cell_type": "code",
   "execution_count": null,
   "id": "0e20ece4",
   "metadata": {},
   "outputs": [],
   "source": []
  }
 ],
 "metadata": {
  "kernelspec": {
   "display_name": "Python 3 (ipykernel)",
   "language": "python",
   "name": "python3"
  },
  "language_info": {
   "codemirror_mode": {
    "name": "ipython",
    "version": 3
   },
   "file_extension": ".py",
   "mimetype": "text/x-python",
   "name": "python",
   "nbconvert_exporter": "python",
   "pygments_lexer": "ipython3",
   "version": "3.9.12"
  }
 },
 "nbformat": 4,
 "nbformat_minor": 5
}
