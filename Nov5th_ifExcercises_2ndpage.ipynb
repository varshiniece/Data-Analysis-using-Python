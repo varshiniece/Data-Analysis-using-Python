{
 "cells": [
  {
   "cell_type": "code",
   "execution_count": 1,
   "id": "a07363d7",
   "metadata": {},
   "outputs": [
    {
     "data": {
      "text/plain": [
       "'C:\\\\Users\\\\shiva'"
      ]
     },
     "execution_count": 1,
     "metadata": {},
     "output_type": "execute_result"
    }
   ],
   "source": [
    "pwd"
   ]
  },
  {
   "cell_type": "code",
   "execution_count": 3,
   "id": "5c8ac156",
   "metadata": {},
   "outputs": [
    {
     "name": "stdout",
     "output_type": "stream",
     "text": [
      "D:\\Loveforlearning_books\\jobs_varsha\\Datascience\n"
     ]
    }
   ],
   "source": [
    "cd D:\\Loveforlearning_books\\jobs_varsha\\Datascience"
   ]
  },
  {
   "cell_type": "code",
   "execution_count": 4,
   "id": "8f1f1836",
   "metadata": {},
   "outputs": [
    {
     "data": {
      "text/plain": [
       "'D:\\\\Loveforlearning_books\\\\jobs_varsha\\\\Datascience'"
      ]
     },
     "execution_count": 4,
     "metadata": {},
     "output_type": "execute_result"
    }
   ],
   "source": [
    "pwd"
   ]
  },
  {
   "cell_type": "code",
   "execution_count": 25,
   "id": "bc5abafc",
   "metadata": {},
   "outputs": [
    {
     "name": "stdout",
     "output_type": "stream",
     "text": [
      "Enter the name of the note : C2\n",
      "The note frequency is  65.4075\n"
     ]
    }
   ],
   "source": [
    "### program that reads the name of a note from the user and displays the note’s frequency.\n",
    "note_name =input(\"Enter the name of the note : \")\n",
    "note = note_name[0] \n",
    "octave = int(note_name[1])\n",
    "\n",
    "## Note Frequency (Hz) C4 261.63 D4 293.66 E4 329.63 F4 349.23 G4 392.00 A4 440.00 B4 493.88\n",
    "if (note_name ==\"C4\"):\n",
    "    print(\"The notes frequency is 261.63\")\n",
    "elif (note_name ==\"D4\"):\n",
    "    print(\"The notes frequency is 293.66\")\n",
    "elif(note_name == \"E4\" ):\n",
    "    print(\"The note frequency is 329.63\")\n",
    "elif (note_name == \"F4\"):\n",
    "    print(\"The note frequency is 349.23\")\n",
    "elif(note_name ==\"G4\"):\n",
    "    print(\"The note frequency is 392.00\")\n",
    "elif(note_name ==\"A4\"):\n",
    "    print(\"The note frequency is 440.00\")\n",
    "elif(note_name ==\"B4\"):\n",
    "    print(\"The note frequency is 493.88\")\n",
    "    \n",
    "##you should add support for all of the notes from C0 to C8.\n",
    "\n",
    "##BEGINNING FREQ: C4 261.63\n",
    "else:\n",
    "    print(\"The note frequency is \" , round(261.63/(2**(4-octave)),4))\n",
    "\n",
    "    "
   ]
  },
  {
   "cell_type": "code",
   "execution_count": 29,
   "id": "25e17f0a",
   "metadata": {},
   "outputs": [
    {
     "name": "stdout",
     "output_type": "stream",
     "text": [
      "Enter the frequency in Hertz261.63\n",
      "The note_name is C4\n"
     ]
    }
   ],
   "source": [
    "###Begin by reading a frequency from the user. If the frequency is within one Hertz of a value listed in the table in the previous question then report the name of the note.\n",
    "\n",
    "freq = input(\"Enter the frequency in Hertz\")\n",
    "if (freq==\"261.63\"):\n",
    "    print(\"The note_name is C4\")\n",
    "           \n"
   ]
  },
  {
   "cell_type": "code",
   "execution_count": 36,
   "id": "f6287186",
   "metadata": {},
   "outputs": [
    {
     "name": "stdout",
     "output_type": "stream",
     "text": [
      "Enter the wavelength(nm) :495\n",
      "The color is Green\n"
     ]
    }
   ],
   "source": [
    "##Write a program that reads a wavelength from the user and reports its color. Display an appropriate error message if the wavelength entered by the user is outside of the visible spectrum.\n",
    "\n",
    "wave_l = input(\"Enter the wavelength(nm) :\")\n",
    "if (wave_l >= \"380\" and wave_l < \"450\"):\n",
    "    print(\"The color is Violet\")\n",
    "if (wave_l >= \"450\" and wave_l < \"495\"):\n",
    "    print(\"The color is Blue\")\n",
    "if (wave_l >= \"495\" and wave_l < \"570\"):\n",
    "    print(\"The color is Green\")\n",
    "    \n",
    "    ###Green 495 to less than 570 Yellow 570 to less than 590 Orange 590 to less than 620 Red 620 to 750\n",
    "    \n",
    "    \n",
    "\n",
    "\n"
   ]
  },
  {
   "cell_type": "code",
   "execution_count": null,
   "id": "e7b82323",
   "metadata": {},
   "outputs": [],
   "source": []
  }
 ],
 "metadata": {
  "kernelspec": {
   "display_name": "Python 3 (ipykernel)",
   "language": "python",
   "name": "python3"
  },
  "language_info": {
   "codemirror_mode": {
    "name": "ipython",
    "version": 3
   },
   "file_extension": ".py",
   "mimetype": "text/x-python",
   "name": "python",
   "nbconvert_exporter": "python",
   "pygments_lexer": "ipython3",
   "version": "3.9.12"
  }
 },
 "nbformat": 4,
 "nbformat_minor": 5
}
